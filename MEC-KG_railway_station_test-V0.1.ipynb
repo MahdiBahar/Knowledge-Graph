{
 "cells": [
  {
   "cell_type": "code",
   "execution_count": 6,
   "id": "9be916fa",
   "metadata": {},
   "outputs": [
    {
     "name": "stdout",
     "output_type": "stream",
     "text": [
      "   crs  nationalLocationCode       name sixteenCharacterName  \\\n",
      "0  ABE                381300       Aber                 ABER   \n",
      "1  ACY                380100  Abercynon            ABERCYNON   \n",
      "2  ABA                398200   Aberdare             ABERDARE   \n",
      "3  AVY                443500  Aberdovey            ABERDOVEY   \n",
      "4  ABH                444000   Abererch             ABERERCH   \n",
      "\n",
      "                                             address      long        lat  \\\n",
      "0  Aber station, Nantgarw Road, Aber, Caerphilly,... -3.229839  51.574961   \n",
      "1  Abercynon station, Station Road, Abercynon, Rh... -3.327001  51.644706   \n",
      "2  Aberdare station, Abernant Road, Aberdare, Mid... -3.443099  51.715057   \n",
      "3  Aberdovey station, Station Road, Aberdovey, Gw... -4.057081  52.543972   \n",
      "4  Abererch station, Abererch Sands Road, Aberech... -4.374196  52.898600   \n",
      "\n",
      "                                                 uri  \n",
      "0  https://www.nationalrail.co.uk/stations/ABE/de...  \n",
      "1  https://www.nationalrail.co.uk/stations/ACY/de...  \n",
      "2  https://www.nationalrail.co.uk/stations/ABA/de...  \n",
      "3  https://www.nationalrail.co.uk/stations/AVY/de...  \n",
      "4  https://www.nationalrail.co.uk/stations/ABH/de...  \n"
     ]
    }
   ],
   "source": [
    "import pandas as pd\n",
    "df = pd.read_csv(\"/home/mahdi/Knowledge-Graph/nr-stations-all.csv\", nrows=5, encoding=\"utf-8-sig\")\n",
    "print(df)  # reveals BOM as \\\\ufeff\n"
   ]
  },
  {
   "cell_type": "code",
   "execution_count": 7,
   "id": "fed036a9",
   "metadata": {},
   "outputs": [
    {
     "name": "stdout",
     "output_type": "stream",
     "text": [
      "Prepared stations: 2593\n",
      "keys: ['crs', 'nationalLocationCode', 'name', 'sixteenCharacterName', 'address', 'long', 'lat', 'uri', 'lon']\n"
     ]
    }
   ],
   "source": [
    "import pandas as pd\n",
    "\n",
    "def normalize(df: pd.DataFrame) -> pd.DataFrame:\n",
    "    df.columns = (df.columns\n",
    "                  .str.replace(\"\\ufeff\",\"\",regex=False)\n",
    "                  .str.strip()\n",
    "                  .str.lower())\n",
    "    for c in [\"id\",\"station_id\",\"code\",\"crs\",\"tiploc\"]:\n",
    "        if c in df.columns:\n",
    "            if c != \"id\":\n",
    "                df = df.rename(columns={c: \"id\"})\n",
    "            break\n",
    "    else:\n",
    "        raise ValueError(\"No ID-like column found\")\n",
    "    df[\"id\"] = df[\"id\"].astype(str).str.replace(\"\\ufeff\",\"\",regex=False).str.strip()\n",
    "    df.loc[df[\"id\"].isin([\"\",\"nan\",\"None\"]), \"id\"] = pd.NA\n",
    "    for c in [\"name\",\"lat\",\"lon\",\"long\",\"address\",\"uri\",\"nationallocationcode\",\"sixteencharactername\"]:\n",
    "        if c not in df.columns:\n",
    "            df[c] = pd.NA\n",
    "    return df\n",
    "\n",
    "rows_station = []\n",
    "for df in pd.read_csv(\"/home/mahdi/Knowledge-Graph/nr-stations-all.csv\",\n",
    "                      chunksize=10_000, encoding=\"utf-8-sig\"):\n",
    "    df = normalize(df)\n",
    "    # map LOWERCASE cols → the exact keys used in your Cypher\n",
    "    colmap = {\n",
    "        \"id\": \"crs\",\n",
    "        \"nationallocationcode\": \"nationalLocationCode\",\n",
    "        \"sixteencharactername\": \"sixteenCharacterName\",\n",
    "        # if your file has 'lon' instead of 'long', uncomment next line\n",
    "        # \"lon\": \"long\",\n",
    "    }\n",
    "    for k,v in colmap.items():\n",
    "        if k in df.columns:\n",
    "            df = df.rename(columns={k: v})\n",
    "    rows_station.extend(df.dropna(subset=[\"crs\"]).to_dict(\"records\"))\n",
    "\n",
    "print(\"Prepared stations:\", len(rows_station))\n",
    "print(\"keys:\", list(rows_station[0].keys()))\n"
   ]
  },
  {
   "cell_type": "code",
   "execution_count": 8,
   "id": "e01e3491",
   "metadata": {},
   "outputs": [
    {
     "data": {
      "text/plain": [
       "[{'crs': 'ABE',\n",
       "  'nationalLocationCode': '381300',\n",
       "  'name': 'Aber',\n",
       "  'sixteenCharacterName': 'ABER',\n",
       "  'address': 'Aber station, Nantgarw Road, Aber, Caerphilly, CF83 1AQ',\n",
       "  'long': -3.229838935,\n",
       "  'lat': 51.57496069,\n",
       "  'uri': 'https://www.nationalrail.co.uk/stations/ABE/details.html',\n",
       "  'lon': None},\n",
       " {'crs': 'ACY',\n",
       "  'nationalLocationCode': '380100',\n",
       "  'name': 'Abercynon',\n",
       "  'sixteenCharacterName': 'ABERCYNON',\n",
       "  'address': 'Abercynon station, Station Road, Abercynon, Rhondda Cynon Taf, CF45 4SE',\n",
       "  'long': -3.327000754,\n",
       "  'lat': 51.644706,\n",
       "  'uri': 'https://www.nationalrail.co.uk/stations/ACY/details.html',\n",
       "  'lon': None},\n",
       " {'crs': 'ABA',\n",
       "  'nationalLocationCode': '398200',\n",
       "  'name': 'Aberdare',\n",
       "  'sixteenCharacterName': 'ABERDARE',\n",
       "  'address': 'Aberdare station, Abernant Road, Aberdare, Mid Glamorgan, CF44 0PU',\n",
       "  'long': -3.443099147,\n",
       "  'lat': 51.71505747,\n",
       "  'uri': 'https://www.nationalrail.co.uk/stations/ABA/details.html',\n",
       "  'lon': None},\n",
       " {'crs': 'AVY',\n",
       "  'nationalLocationCode': '443500',\n",
       "  'name': 'Aberdovey',\n",
       "  'sixteenCharacterName': 'ABERDOVEY',\n",
       "  'address': 'Aberdovey station, Station Road, Aberdovey, Gwynedd, LL35 0NR',\n",
       "  'long': -4.057080835,\n",
       "  'lat': 52.54397223,\n",
       "  'uri': 'https://www.nationalrail.co.uk/stations/AVY/details.html',\n",
       "  'lon': None},\n",
       " {'crs': 'ABH',\n",
       "  'nationalLocationCode': '444000',\n",
       "  'name': 'Abererch',\n",
       "  'sixteenCharacterName': 'ABERERCH',\n",
       "  'address': 'Abererch station, Abererch Sands Road, Aberech, Gwynedd, LL53 6PJ',\n",
       "  'long': -4.374195955,\n",
       "  'lat': 52.89860046,\n",
       "  'uri': 'https://www.nationalrail.co.uk/stations/ABH/details.html',\n",
       "  'lon': None},\n",
       " {'crs': 'AGV',\n",
       "  'nationalLocationCode': '3602',\n",
       "  'name': 'Abergavenny',\n",
       "  'sixteenCharacterName': 'AGV',\n",
       "  'address': 'Abergavenny station, Station Approach, Abergavenny, Monmouthshire, NP7 5HS',\n",
       "  'long': -3.009664242,\n",
       "  'lat': 51.81669124,\n",
       "  'uri': 'https://www.nationalrail.co.uk/stations/AGV/details.html',\n",
       "  'lon': None},\n",
       " {'crs': 'AGL',\n",
       "  'nationalLocationCode': '244800',\n",
       "  'name': 'Abergele & Pensarn',\n",
       "  'sixteenCharacterName': '-',\n",
       "  'address': 'Abergele & Pensarn station, Station Approach, Pensarn, Conwy, LL22 7PR',\n",
       "  'long': -3.582632062,\n",
       "  'lat': 53.29459094,\n",
       "  'uri': 'https://www.nationalrail.co.uk/stations/AGL/details.html',\n",
       "  'lon': None},\n",
       " {'crs': 'AYW',\n",
       "  'nationalLocationCode': '430300',\n",
       "  'name': 'Aberystwyth',\n",
       "  'sixteenCharacterName': 'ABERYSTWYTH',\n",
       "  'address': 'Aberystwyth station, Alexandra Road, Aberystwyth, Ceredigion, SY23 1LH',\n",
       "  'long': -4.081908698,\n",
       "  'lat': 52.41405692,\n",
       "  'uri': 'https://www.nationalrail.co.uk/stations/AYW/details.html',\n",
       "  'lon': None},\n",
       " {'crs': 'AMF',\n",
       "  'nationalLocationCode': '423600',\n",
       "  'name': 'Ammanford',\n",
       "  'sixteenCharacterName': 'AMMANFORD',\n",
       "  'address': 'Ammanford station, Ffordd-yr-Orsaf, Ammanford, Carmarthenshire, SA18 2DD',\n",
       "  'long': -3.996765792,\n",
       "  'lat': 51.79597767,\n",
       "  'uri': 'https://www.nationalrail.co.uk/stations/AMF/details.html',\n",
       "  'lon': None},\n",
       " {'crs': 'BAJ',\n",
       "  'nationalLocationCode': '418600',\n",
       "  'name': 'Baglan',\n",
       "  'sixteenCharacterName': 'BAGLAN',\n",
       "  'address': 'Baglan station, Seaway Parade, Baglan, Neath Port Talbot, SA12 8ES',\n",
       "  'long': -3.811162313,\n",
       "  'lat': 51.61553822,\n",
       "  'uri': 'https://www.nationalrail.co.uk/stations/BAJ/details.html',\n",
       "  'lon': None}]"
      ]
     },
     "execution_count": 8,
     "metadata": {},
     "output_type": "execute_result"
    }
   ],
   "source": [
    "rows_station[:10]"
   ]
  },
  {
   "cell_type": "code",
   "execution_count": 1,
   "id": "d3ecb287",
   "metadata": {},
   "outputs": [],
   "source": [
    "# pip install neo4j\n",
    "from neo4j import GraphDatabase\n",
    "import csv\n",
    "# --- 1) Connect ---\n",
    "URI  = \"bolt://localhost:7687\"          # or neo4j+s://<your-aura-endpoint>\n",
    "user = \"neo4j\"\n",
    "password= \"Mbg!234567\"\n",
    "AUTH = (user,password)            # <- change\n",
    "host = \"bolt://127.0.0.1:7687\"\n"
   ]
  },
  {
   "cell_type": "code",
   "execution_count": 10,
   "id": "525b8b59",
   "metadata": {},
   "outputs": [
    {
     "name": "stdout",
     "output_type": "stream",
     "text": [
      "Loaded stations: 2,593\n"
     ]
    }
   ],
   "source": [
    "\n",
    "driver = GraphDatabase.driver(URI, auth=AUTH)\n",
    "\n",
    "# 'stations' is your Python list of dicts (the one you pasted)\n",
    "stations = rows_station  # <— paste your list here\n",
    "# --- 2) Constraints (safe to re-run) ---\n",
    "with driver.session(database=\"neo4j\") as s:\n",
    "    s.run(\"\"\"\n",
    "    CREATE CONSTRAINT station_crs_unique IF NOT EXISTS\n",
    "    FOR (s:Station) REQUIRE s.crs IS UNIQUE\n",
    "    \"\"\")\n",
    "\n",
    "# --- 3) Writer (guards null/blank IDs, casts types, maps `long`->`lon`) ---\n",
    "def write_stations(tx, rows):\n",
    "    tx.run(\"\"\"\n",
    "    UNWIND $rows AS row\n",
    "    WITH row\n",
    "    WHERE row.crs IS NOT NULL AND trim(toString(row.crs)) <> \"\"\n",
    "    MERGE (s:Station {crs: toString(row.crs)})\n",
    "    SET  s.nationalLocationCode  = toString(row.nationalLocationCode),\n",
    "         s.name                  = row.name,\n",
    "         s.sixteenCharacterName  = row.sixteenCharacterName,\n",
    "         s.address               = row.address,\n",
    "         s.uri                   = row.uri,\n",
    "         // keep your original 'long' if you want, but also store 'lon'\n",
    "         s.long                  = CASE WHEN row.long IS NULL THEN NULL ELSE toFloat(row.long) END,\n",
    "         s.lon                   = CASE WHEN row.long IS NULL THEN NULL ELSE toFloat(row.long) END,\n",
    "         s.lat                   = CASE WHEN row.lat  IS NULL THEN NULL ELSE toFloat(row.lat)  END\n",
    "    \"\"\", rows=rows)\n",
    "\n",
    "# --- 4) Batch the write (adjust batch size if needed) ---\n",
    "BATCH = 1000\n",
    "for i in range(0, len(stations), BATCH):\n",
    "    batch = stations[i:i+BATCH]\n",
    "    with driver.session(database=\"neo4j\") as s:\n",
    "        s.execute_write(write_stations, batch)\n",
    "\n",
    "# --- 5) Quick sanity check ---\n",
    "with driver.session(database=\"neo4j\") as s:\n",
    "    count = s.run(\"MATCH (s:Station) RETURN count(s) AS n\").single()[\"n\"]\n",
    "print(f\"Loaded stations: {count:,}\")\n"
   ]
  },
  {
   "cell_type": "code",
   "execution_count": 11,
   "id": "a7ab535c",
   "metadata": {},
   "outputs": [
    {
     "name": "stdout",
     "output_type": "stream",
     "text": [
      "Detected headers: ['from', 'to', 'distance']\n",
      "Rows read: 5,802\n",
      "Rows kept (non-empty endpoints): 5,802\n",
      "Rows skipped (blank endpoints): 0\n",
      "Rows sent to DB: 5,802\n"
     ]
    }
   ],
   "source": [
    "\n",
    "\n",
    "\n",
    "LINKS_CSV = \"/home/mahdi/Knowledge-Graph/nr-station-links.csv\"  # \n",
    "\n",
    "\n",
    "\n",
    "driver = GraphDatabase.driver(URI, auth=AUTH)\n",
    "\n",
    "# Ensure node key is unique (safe to re-run)\n",
    "with driver.session() as s:\n",
    "    s.run(\"\"\"\n",
    "    CREATE CONSTRAINT station_crs IF NOT EXISTS\n",
    "    FOR (s:Station) REQUIRE s.crs IS UNIQUE\n",
    "    \"\"\")\n",
    "\n",
    "# --- helpers ---\n",
    "def fnum(x):\n",
    "    if x is None: return None\n",
    "    s = str(x).strip()\n",
    "    if s == \"\" or s.lower() in (\"nan\", \"none\"): return None\n",
    "    try: return float(s)\n",
    "    except ValueError: return None\n",
    "\n",
    "def normalize_row(r):\n",
    "    # YOUR HEADERS: 'from', 'to', 'distance'\n",
    "    return {\n",
    "        \"a\": (r.get(\"from\") or \"\").strip(),\n",
    "        \"b\": (r.get(\"to\") or \"\").strip(),\n",
    "        \"distance_km\": fnum(r.get(\"distance\")),   # will be stored as distance_km\n",
    "        \"duration_min\": None,\n",
    "        \"line\": None,\n",
    "    }\n",
    "\n",
    "# --- writers ---\n",
    "def write_links_bidirectional(tx, rows):\n",
    "    tx.run(\"\"\"\n",
    "    UNWIND $rows AS row\n",
    "    WITH trim(row.a) AS a, trim(row.b) AS b, row\n",
    "    WHERE a <> '' AND b <> ''\n",
    "    MATCH (u:Station {crs:a}), (v:Station {crs:b})\n",
    "    UNWIND [[u,v],[v,u]] AS pair              // remove this UNWIND if you want one-way links only\n",
    "    WITH pair[0] AS x, pair[1] AS y, row\n",
    "    MERGE (x)-[e:CONNECTS_TO]->(y)\n",
    "    SET e.distance_km = COALESCE(row.distance_km, e.distance_km),\n",
    "        e.duration_min = COALESCE(row.duration_min, e.duration_min),\n",
    "        e.line         = COALESCE(row.line, e.line)\n",
    "    \"\"\", rows=rows)\n",
    "\n",
    "# --- load in batches with debugging ---\n",
    "BATCH = 5000\n",
    "buf = []\n",
    "read_rows = kept_rows = sent_rows = 0\n",
    "skipped_blank = 0\n",
    "\n",
    "with open(LINKS_CSV, newline=\"\", encoding=\"utf-8-sig\") as f:\n",
    "    rdr = csv.DictReader(f)\n",
    "    headers = rdr.fieldnames\n",
    "    print(\"Detected headers:\", headers)\n",
    "\n",
    "    for raw in rdr:\n",
    "        read_rows += 1\n",
    "        row = normalize_row(raw)\n",
    "        if not row[\"a\"] or not row[\"b\"]:\n",
    "            skipped_blank += 1\n",
    "            continue\n",
    "        kept_rows += 1\n",
    "        buf.append(row)\n",
    "        if len(buf) == BATCH:\n",
    "            with driver.session() as s:\n",
    "                s.execute_write(write_links_bidirectional, buf)\n",
    "            sent_rows += len(buf)\n",
    "            buf.clear()\n",
    "\n",
    "if buf:\n",
    "    with driver.session() as s:\n",
    "        s.execute_write(write_links_bidirectional, buf)\n",
    "    sent_rows += len(buf)\n",
    "\n",
    "print(f\"Rows read: {read_rows:,}\")\n",
    "print(f\"Rows kept (non-empty endpoints): {kept_rows:,}\")\n",
    "print(f\"Rows skipped (blank endpoints): {skipped_blank:,}\")\n",
    "print(f\"Rows sent to DB: {sent_rows:,}\")"
   ]
  },
  {
   "cell_type": "code",
   "execution_count": null,
   "id": "5bc90381",
   "metadata": {},
   "outputs": [],
   "source": []
  },
  {
   "cell_type": "markdown",
   "id": "b1e4accf",
   "metadata": {},
   "source": [
    "## check the issue of uploaded stations = 0"
   ]
  },
  {
   "cell_type": "code",
   "execution_count": 13,
   "id": "ccd35d39",
   "metadata": {},
   "outputs": [
    {
     "name": "stdout",
     "output_type": "stream",
     "text": [
      "[{'name': 'neo4j', 'type': 'standard', 'aliases': [], 'access': 'read-write', 'address': 'localhost:7687', 'role': 'primary', 'writer': True, 'requestedStatus': 'online', 'currentStatus': 'online', 'statusMessage': '', 'default': True, 'home': True, 'constituents': []}, {'name': 'system', 'type': 'system', 'aliases': [], 'access': 'read-write', 'address': 'localhost:7687', 'role': 'primary', 'writer': True, 'requestedStatus': 'online', 'currentStatus': 'online', 'statusMessage': '', 'default': False, 'home': False, 'constituents': []}]\n"
     ]
    }
   ],
   "source": [
    "from neo4j import GraphDatabase\n",
    "driver = GraphDatabase.driver(\"bolt://localhost:7687\", auth=(\"neo4j\",\"Mbg!234567\"))\n",
    "\n",
    "with driver.session(database=\"neo4j\") as s:\n",
    "    # show which DB you’re on and whether it’s online\n",
    "    print(s.run(\"SHOW DATABASES\").data())"
   ]
  },
  {
   "cell_type": "code",
   "execution_count": 14,
   "id": "e275e671",
   "metadata": {},
   "outputs": [
    {
     "name": "stdout",
     "output_type": "stream",
     "text": [
      "After PING create, stations: 1\n"
     ]
    }
   ],
   "source": [
    "with driver.session(database=\"neo4j\") as s:\n",
    "    s.run(\"CREATE (:Station {crs:'__PING__'})\")\n",
    "    c = s.run(\"MATCH (s:Station) RETURN count(s) AS n\").single()[\"n\"]\n",
    "print(\"After PING create, stations:\", c)\n",
    "# clean up\n",
    "with driver.session(database=\"neo4j\") as s:\n",
    "    s.run(\"MATCH (s:Station {crs:'__PING__'}) DETACH DELETE s\")"
   ]
  },
  {
   "cell_type": "code",
   "execution_count": 15,
   "id": "0aecb84e",
   "metadata": {},
   "outputs": [
    {
     "name": "stdout",
     "output_type": "stream",
     "text": [
      "type(rows_station): <class 'list'>\n",
      "len(rows_station): 2593\n",
      "sample keys: ['id', 'nationallocationcode', 'name', 'sixteencharactername', 'address', 'long', 'lat', 'uri']\n",
      "sample row: {'id': 'ABE', 'nationallocationcode': '381300', 'name': 'Aber', 'sixteencharactername': 'ABER', 'address': 'Aber station, Nantgarw Road, Aber, Caerphilly, CF83 1AQ', 'long': -3.229838935, 'lat': 51.57496069, 'uri': 'https://www.nationalrail.co.uk/stations/ABE/details.html'}\n"
     ]
    }
   ],
   "source": [
    "print(\"type(rows_station):\", type(rows_station))\n",
    "print(\"len(rows_station):\", len(rows_station) if rows_station is not None else None)\n",
    "if rows_station:\n",
    "    print(\"sample keys:\", list(rows_station[0].keys()))\n",
    "    print(\"sample row:\", rows_station[0])"
   ]
  },
  {
   "cell_type": "markdown",
   "id": "5970aa59",
   "metadata": {},
   "source": [
    "## Example 6-3. Using the Python API for Graph Data Science to create a graph projection from the railway knowledge graph"
   ]
  },
  {
   "cell_type": "code",
   "execution_count": 2,
   "id": "fdf7291e",
   "metadata": {},
   "outputs": [
    {
     "name": "stderr",
     "output_type": "stream",
     "text": [
      "/home/mahdi/Knowledge-Graph/.venv/lib/python3.12/site-packages/tqdm/auto.py:21: TqdmWarning: IProgress not found. Please update jupyter and ipywidgets. See https://ipywidgets.readthedocs.io/en/stable/user_install.html\n",
      "  from .autonotebook import tqdm as notebook_tqdm\n"
     ]
    }
   ],
   "source": [
    "from graphdatascience import GraphDataScience\n",
    "\n",
    "gds = GraphDataScience(host, auth=(user, password), database=\"neo4j\")\n",
    "gds.graph.project.cypher(\n",
    "graph_name='trains',\n",
    "node_spec='MATCH (s:Station) RETURN id(s) AS id',\n",
    "relationship_spec=\n",
    "\"\"\"\n",
    "MATCH (s1:Station)-[t:TRACK]->(s2:Station)\n",
    "RETURN id(s1) AS source, id(s2) AS target, t.distance AS distance\n",
    "\"\"\"\n",
    ")\n",
    "gds.close()"
   ]
  },
  {
   "cell_type": "markdown",
   "id": "ddbe6ce0",
   "metadata": {},
   "source": [
    "## Example 6-4. Using the Python API for Graph Data Science to compute the shortest path between Birmingham New Street and Edinburgh"
   ]
  },
  {
   "cell_type": "code",
   "execution_count": 12,
   "id": "8cf90c07",
   "metadata": {},
   "outputs": [
    {
     "name": "stdout",
     "output_type": "stream",
     "text": [
      "Projection: nodeProjection            {'Station': {'label': 'Station', 'properties':...\n",
      "relationshipProjection    {'CONNECTS_TO': {'aggregation': 'DEFAULT', 'or...\n",
      "graphName                                                            trains\n",
      "nodeCount                                                              2593\n",
      "relationshipCount                                                     11564\n",
      "projectMillis                                                            12\n",
      "Name: 0, dtype: object\n",
      "Source ID: 65, Target ID: 53\n",
      "Shortest distance (km): 7.529999999999999\n"
     ]
    }
   ],
   "source": [
    "from graphdatascience import GraphDataScience\n",
    "\n",
    "user = \"neo4j\"\n",
    "password = \"Mbg!234567\"\n",
    "\n",
    "gds = GraphDataScience(\"bolt://localhost:7687\", auth=(user, password), database=\"neo4j\")\n",
    "\n",
    "# # Optional sanity checks\n",
    "# print(\"GDS client:\", gds.version())\n",
    "# # From the Python client (already returns a string)\n",
    "# # Ask the server via Cypher FUNCTION form\n",
    "# print(\n",
    "#     \"Server GDS:\",\n",
    "#     gds.run_cypher(\"RETURN gds.version() AS version\").to_string(index=False)\n",
    "# )\n",
    "\n",
    "\n",
    "GRAPH_NAME = \"trains\"\n",
    "\n",
    "# Drop if you want a fresh projection (optional)\n",
    "if gds.graph.exists(GRAPH_NAME).exists:\n",
    "    gds.graph.drop(GRAPH_NAME)\n",
    "\n",
    "# ✅ Project WITHOUT string properties\n",
    "# Only labels + relationship with numeric weight 'distance_km'.\n",
    "G, proj_stats = gds.graph.project(\n",
    "    GRAPH_NAME,\n",
    "    \"Station\",                                  # no node properties -> no strings\n",
    "    {\n",
    "        \"CONNECTS_TO\": {\n",
    "            \"orientation\": \"UNDIRECTED\",        # or \"NATURAL\" if you want direction respected\n",
    "            \"properties\": {\n",
    "                \"distance_km\": {\n",
    "                    \"property\": \"distance_km\",\n",
    "                    \"defaultValue\": 1.0\n",
    "                }\n",
    "            }\n",
    "        }\n",
    "    }\n",
    ")\n",
    "print(\"Projection:\", proj_stats)\n",
    "\n",
    "# Resolve DB node IDs by name via Cypher (outside the projection)\n",
    "def node_id_by_name(name: str):\n",
    "    df = gds.run_cypher(\"MATCH (s:Station {name:$n}) RETURN id(s) AS id\", params={\"n\": name})\n",
    "    return None if df.empty else int(df.iloc[0][\"id\"])\n",
    "\n",
    "# Adjust these to match your actual station names in the DB\n",
    "src_name = \"Birmingham New Street\"\n",
    "dst_name = \"Edinburgh\"               # e.g. \"Edinburgh Waverley\" if that's the stored name\n",
    "\n",
    "src_name = \"Gilfach Fargoed\"\n",
    "dst_name = \"Energlyn & Churchill Park\"\n",
    "\n",
    "source_id = node_id_by_name(src_name)\n",
    "target_id = node_id_by_name(dst_name)\n",
    "print(f\"Source ID: {source_id}, Target ID: {target_id}\")\n",
    "\n",
    "if source_id is None or target_id is None:\n",
    "    raise ValueError(f\"Could not find nodes. source_id={source_id}, target_id={target_id}\")\n",
    "\n",
    "# Run Dijkstra with the correct weight key\n",
    "res = gds.shortestPath.dijkstra.stream(\n",
    "    G,\n",
    "    sourceNode=source_id,\n",
    "    targetNode=target_id,\n",
    "    relationshipWeightProperty=\"distance_km\",\n",
    ")\n",
    "\n",
    "if res.empty:\n",
    "    print(\"No path found.\")\n",
    "else:\n",
    "    total = float(res.iloc[0][\"totalCost\"])\n",
    "    print(f\"Shortest distance (km): {total}\")\n",
    "\n",
    "    # Optional: persist a summary back to the store\n",
    "    gds.run_cypher(\"\"\"\n",
    "    MATCH (a:Station {name:$a}), (b:Station {name:$b})\n",
    "    MERGE (a)-[r:SP_SUMMARY]->(b)\n",
    "    SET r.distance_km = $d, r.algorithm = 'gds.shortestPath.dijkstra', r.ts = timestamp()\n",
    "    \"\"\", params={\"a\": src_name, \"b\": dst_name, \"d\": total})\n",
    "\n",
    "    # Optional: mark nodes on the path (nodeIds are DB ids)\n",
    "    node_ids = res.iloc[0][\"nodeIds\"]\n",
    "    gds.run_cypher(\"\"\"\n",
    "    UNWIND $ids AS id\n",
    "    MATCH (n) WHERE id(n) = id\n",
    "    SET n.on_shortest_path = true\n",
    "    \"\"\", params={\"ids\": node_ids})\n",
    "\n",
    "gds.close()\n"
   ]
  },
  {
   "cell_type": "code",
   "execution_count": null,
   "id": "b96b9929",
   "metadata": {},
   "outputs": [],
   "source": []
  }
 ],
 "metadata": {
  "kernelspec": {
   "display_name": ".venv",
   "language": "python",
   "name": "python3"
  },
  "language_info": {
   "codemirror_mode": {
    "name": "ipython",
    "version": 3
   },
   "file_extension": ".py",
   "mimetype": "text/x-python",
   "name": "python",
   "nbconvert_exporter": "python",
   "pygments_lexer": "ipython3",
   "version": "3.12.4"
  }
 },
 "nbformat": 4,
 "nbformat_minor": 5
}
